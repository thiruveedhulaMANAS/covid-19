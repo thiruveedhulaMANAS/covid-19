{
 "cells": [
  {
   "cell_type": "code",
   "execution_count": null,
   "metadata": {},
   "outputs": [],
   "source": [
    "\n",
    "import boto3\n",
    "from io import StringIO\n",
    "import pandas as pd\n",
    "import time"
   ]
  },
  {
   "cell_type": "code",
   "execution_count": null,
   "metadata": {},
   "outputs": [],
   "source": [
    "AWS_ACCESS_KEY =\"\"\n",
    "AWS_SECRET_KEY =\"\"\n",
    "AWS_REGION = \"ap-south-1\"\n",
    "SCHEMA_NAME = \"coviddata\"\n",
    "S3_STAGING_DIR =\"s3://n-bucket/output/\"\n",
    "S3_BUCKET_NAME = \"\"\n",
    "S3_OUTPUT_DIRECTORY = \"output\"\n"
   ]
  },
  {
   "cell_type": "code",
   "execution_count": null,
   "metadata": {},
   "outputs": [],
   "source": [
    "athena_client = boto3.client(\n",
    "    \"athena\",\n",
    "    aws_access_key_id = AWS_ACCESS_KEY,\n",
    "    aws_secret_access_key= AWS_SECRET_KEY,\n",
    "    region_name = AWS_REGION ,\n",
    ")"
   ]
  },
  {
   "cell_type": "code",
   "execution_count": null,
   "metadata": {},
   "outputs": [],
   "source": [
    "#Gets the data from athena and converts it into pandas dataframe\n",
    "Dict = {}\n",
    "def download_and_load_query_results(\n",
    "    client: boto3.client, query_response: Dict\n",
    ") -> pd.DataFrame:\n",
    "    while True:\n",
    "        try:\n",
    "            print(client.get_query_results(QueryExecutionId=query_response[\"QueryExecutionId\"]))\n",
    "            break\n",
    "        except Exception as err:\n",
    "            #print(err)\n",
    "            if \"Query has not yet finished\" or \"not finish successfully\" in str(err):\n",
    "                time.sleep(0.01)\n",
    "            else:\n",
    "                raise err\n",
    "    temp_file_location: str = \"athena_query_results.csv\"\n",
    "    s3_client = boto3.client(\"s3\",\n",
    "                            aws_access_key_id = AWS_ACCESS_KEY,\n",
    "                            aws_secret_access_key = AWS_SECRET_KEY,\n",
    "                            region_name = AWS_REGION,)\n",
    "    s3_client.download_file(S3_BUCKET_NAME,\n",
    "                           f\"{S3_OUTPUT_DIRECTORY}/{query_response['QueryExecutionId']}.csv\",\n",
    "                           temp_file_location,)\n",
    "    return pd.read_csv(temp_file_location)\n"
   ]
  },
  {
   "cell_type": "code",
   "execution_count": null,
   "metadata": {},
   "outputs": [],
   "source": [
    "response = athena_client.start_query_execution(\n",
    "    QueryString=\"SELECT * FROM countrycode\",\n",
    "    QueryExecutionContext={\"Database\":SCHEMA_NAME},\n",
    "    ResultConfiguration={\"OutputLocation\":S3_STAGING_DIR,\n",
    "                        \"EncryptionConfiguration\":{\"EncryptionOption\":\"SSE_S3\"},\n",
    "                        },\n",
    ")\n",
    "\n",
    "countrycode = download_and_load_query_results(athena_client, response)\n"
   ]
  },
  {
   "cell_type": "code",
   "execution_count": null,
   "metadata": {},
   "outputs": [],
   "source": [
    "response = athena_client.start_query_execution(\n",
    "    QueryString=\"SELECT * FROM countypopulation\",\n",
    "    QueryExecutionContext={\"Database\":SCHEMA_NAME},\n",
    "    ResultConfiguration={\"OutputLocation\":S3_STAGING_DIR,\n",
    "                        \"EncryptionConfiguration\":{\"EncryptionOption\":\"SSE_S3\"},\n",
    "                        },\n",
    ")\n",
    "\n",
    "countypopulation = download_and_load_query_results(athena_client, response)\n"
   ]
  },
  {
   "cell_type": "code",
   "execution_count": null,
   "metadata": {},
   "outputs": [],
   "source": [
    "response = athena_client.start_query_execution(\n",
    "    QueryString=\"SELECT * FROM state_abv\",\n",
    "    QueryExecutionContext={\"Database\":SCHEMA_NAME},\n",
    "    ResultConfiguration={\"OutputLocation\":S3_STAGING_DIR,\n",
    "                        \"EncryptionConfiguration\":{\"EncryptionOption\":\"SSE_S3\"},\n",
    "                        },\n",
    ")\n",
    "\n",
    "state_abv = download_and_load_query_results(athena_client, response)\n"
   ]
  },
  {
   "cell_type": "code",
   "execution_count": null,
   "metadata": {},
   "outputs": [],
   "source": [
    "newheader = state_abv.iloc[0]\n",
    "state_abv = state_abv[1:]\n"
   ]
  },
  {
   "cell_type": "code",
   "execution_count": null,
   "metadata": {},
   "outputs": [],
   "source": [
    "state_abv.columns = newheader\n",
    "state_abv.head()"
   ]
  },
  {
   "cell_type": "code",
   "execution_count": null,
   "metadata": {},
   "outputs": [],
   "source": [
    "response = athena_client.start_query_execution(\n",
    "    QueryString=\"SELECT * FROM states_daily\",\n",
    "    QueryExecutionContext={\"Database\":SCHEMA_NAME},\n",
    "    ResultConfiguration={\"OutputLocation\":S3_STAGING_DIR,\n",
    "                        \"EncryptionConfiguration\":{\"EncryptionOption\":\"SSE_S3\"},\n",
    "                        },\n",
    ")\n",
    "\n",
    "states_daily = download_and_load_query_results(athena_client, response)\n",
    "states_daily\n"
   ]
  },
  {
   "cell_type": "code",
   "execution_count": null,
   "metadata": {},
   "outputs": [],
   "source": [
    "response = athena_client.start_query_execution(\n",
    "    QueryString=\"SELECT * FROM us_county\",\n",
    "    QueryExecutionContext={\"Database\":SCHEMA_NAME},\n",
    "    ResultConfiguration={\"OutputLocation\":S3_STAGING_DIR,\n",
    "                        \"EncryptionConfiguration\":{\"EncryptionOption\":\"SSE_S3\"},\n",
    "                        },\n",
    ")\n",
    "\n",
    "us_county = download_and_load_query_results(athena_client, response)\n"
   ]
  },
  {
   "cell_type": "code",
   "execution_count": null,
   "metadata": {},
   "outputs": [],
   "source": [
    "response = athena_client.start_query_execution(\n",
    "    QueryString=\"SELECT * FROM us_daily\",\n",
    "    QueryExecutionContext={\"Database\":SCHEMA_NAME},\n",
    "    ResultConfiguration={\"OutputLocation\":S3_STAGING_DIR,\n",
    "                        \"EncryptionConfiguration\":{\"EncryptionOption\":\"SSE_S3\"},\n",
    "                        },\n",
    ")\n",
    "\n",
    "us_daily = download_and_load_query_results(athena_client, response)\n",
    "us_daily"
   ]
  },
  {
   "cell_type": "code",
   "execution_count": null,
   "metadata": {},
   "outputs": [],
   "source": [
    "response = athena_client.start_query_execution(\n",
    "    QueryString=\"SELECT * FROM us_states\",\n",
    "    QueryExecutionContext={\"Database\":SCHEMA_NAME},\n",
    "    ResultConfiguration={\"OutputLocation\":S3_STAGING_DIR,\n",
    "                        \"EncryptionConfiguration\":{\"EncryptionOption\":\"SSE_S3\"},\n",
    "                        },\n",
    ")\n",
    "\n",
    "us_states = download_and_load_query_results(athena_client, response)\n"
   ]
  },
  {
   "cell_type": "code",
   "execution_count": null,
   "metadata": {},
   "outputs": [],
   "source": [
    "response = athena_client.start_query_execution(\n",
    "    QueryString=\"SELECT * FROM us_total_latest\",\n",
    "    QueryExecutionContext={\"Database\":SCHEMA_NAME},\n",
    "    ResultConfiguration={\"OutputLocation\":S3_STAGING_DIR,\n",
    "                        \"EncryptionConfiguration\":{\"EncryptionOption\":\"SSE_S3\"},\n",
    "                        },\n",
    ")\n",
    "\n",
    "us_total_latest = download_and_load_query_results(athena_client, response)\n"
   ]
  },
  {
   "cell_type": "code",
   "execution_count": null,
   "metadata": {},
   "outputs": [],
   "source": [
    "response = athena_client.start_query_execution(\n",
    "    QueryString=\"SELECT * FROM csv\",\n",
    "    QueryExecutionContext={\"Database\":SCHEMA_NAME},\n",
    "    ResultConfiguration={\"OutputLocation\":S3_STAGING_DIR,\n",
    "                        \"EncryptionConfiguration\":{\"EncryptionOption\":\"SSE_S3\"},\n",
    "                        },\n",
    ")\n",
    "enigma_jhud = download_and_load_query_results(athena_client, response)"
   ]
  },
  {
   "cell_type": "code",
   "execution_count": null,
   "metadata": {},
   "outputs": [],
   "source": [
    "enigma_jhud"
   ]
  },
  {
   "cell_type": "code",
   "execution_count": null,
   "metadata": {},
   "outputs": [],
   "source": [
    "response = athena_client.start_query_execution(\n",
    "    QueryString=\"SELECT * FROM rearc_usa_hospital_beds\",\n",
    "    QueryExecutionContext={\"Database\":SCHEMA_NAME},\n",
    "    ResultConfiguration={\"OutputLocation\":S3_STAGING_DIR,\n",
    "                        \"EncryptionConfiguration\":{\"EncryptionOption\":\"SSE_S3\"},\n",
    "                        },\n",
    ")\n",
    "\n",
    "rearc_usa_hospital_beds = download_and_load_query_results(athena_client, response)\n",
    "rearc_usa_hospital_beds"
   ]
  },
  {
   "cell_type": "code",
   "execution_count": null,
   "metadata": {},
   "outputs": [],
   "source": [
    "factCovid_1 = enigma_jhud[['fips','province_state','country_region','confirmed','deaths','recovered','active']]\n",
    "factCovid_2 = states_daily[['fips','date','positive','negative','hospitalizedcurrently','hospitalized','hospitalizeddischarged']]\n",
    "factCovid = pd.merge(factCovid_1,factCovid_2,on='fips',how='inner')"
   ]
  },
  {
   "cell_type": "code",
   "execution_count": null,
   "metadata": {},
   "outputs": [],
   "source": [
    "factCovid.shape"
   ]
  },
  {
   "cell_type": "code",
   "execution_count": null,
   "metadata": {},
   "outputs": [],
   "source": [
    "dimRegion_1 = enigma_jhud[['fips','province_state','country_region','latitude','longitude']]\n",
    "dimRegion_2 = us_county[['fips','county','state']]\n",
    "dimRegion = pd.merge(dimRegion_1,dimRegion_2,on='fips',how='inner')\n",
    "dimRegion"
   ]
  },
  {
   "cell_type": "code",
   "execution_count": null,
   "metadata": {},
   "outputs": [],
   "source": [
    "dimHospital = rearc_usa_hospital_beds[['fips','state_name','latitude','longtitude','hq_address','hospital_name','hospital_type','hq_city','hq_state']]\n",
    "dimHospital"
   ]
  },
  {
   "cell_type": "code",
   "execution_count": null,
   "metadata": {},
   "outputs": [],
   "source": [
    "dimDate = states_daily[['fips','date']]\n",
    "dimDate['date'] = pd.to_datetime(dimDate['date'],format=\"%Y%m%d\")\n",
    "dimDate['year'] = dimDate['date'].dt.year\n",
    "dimDate['month'] = dimDate['date'].dt.month\n",
    "dimDate['dayofweek'] = dimDate['date'].dt.dayofweek\n",
    "\n",
    "dimDate"
   ]
  },
  {
   "cell_type": "code",
   "execution_count": null,
   "metadata": {},
   "outputs": [],
   "source": [
    "bucket = \"nani-bucket\"\n",
    "csv_buffer = StringIO()\n",
    "dimDate.to_csv(csv_buffer)\n",
    "s3_resources = boto3.resource(\"s3\")\n",
    "s3_resources.Object(bucket,'/covid-19-output/dimDate.csv').put(Body=csv_buffer.getvalue())"
   ]
  },
  {
   "cell_type": "code",
   "execution_count": null,
   "metadata": {},
   "outputs": [],
   "source": [
    "bucket = \"nani-bucket\"\n",
    "csv_buffer = StringIO()\n",
    "dimHospital.to_csv(csv_buffer)\n",
    "s3_resources = boto3.resource(\"s3\")\n",
    "s3_resources.Object(bucket,'/covid-19-output/dimHospital.csv').put(Body=csv_buffer.getvalue())"
   ]
  },
  {
   "cell_type": "code",
   "execution_count": null,
   "metadata": {},
   "outputs": [],
   "source": [
    "bucket = \"nani-bucket\"\n",
    "csv_buffer = StringIO()\n",
    "dimRegion.to_csv(csv_buffer)\n",
    "s3_resources = boto3.resource(\"s3\")\n",
    "s3_resources.Object(bucket,'/covid-19-output/dimRegion.csv').put(Body=csv_buffer.getvalue())"
   ]
  },
  {
   "cell_type": "code",
   "execution_count": null,
   "metadata": {},
   "outputs": [],
   "source": [
    "bucket = \"nani-bucket\"\n",
    "csv_buffer = StringIO()\n",
    "factCovid.to_csv(csv_buffer)\n",
    "s3_resources = boto3.resource(\"s3\")\n",
    "s3_resources.Object(bucket,'/covid-19-output/factCovid.csv').put(Body=csv_buffer.getvalue())"
   ]
  },
  {
   "cell_type": "code",
   "execution_count": null,
   "metadata": {},
   "outputs": [],
   "source": [
    "csv_buffer.getvalue()"
   ]
  },
  {
   "cell_type": "code",
   "execution_count": null,
   "metadata": {},
   "outputs": [],
   "source": [
    "factCovidsql = pd.io.sql.get_schema(factCovid.reset_index(),'factCovid')\n",
    "print(\"\".join(factCovidsql))"
   ]
  },
  {
   "cell_type": "code",
   "execution_count": null,
   "metadata": {},
   "outputs": [],
   "source": [
    "dimRegionsql = pd.io.sql.get_schema(dimRegion.reset_index(),'dimRegion')\n",
    "print(\"\".join(dimRegionsql))"
   ]
  },
  {
   "cell_type": "code",
   "execution_count": null,
   "metadata": {},
   "outputs": [],
   "source": [
    "dimDatesql = pd.io.sql.get_schema(dimDate.reset_index(),'dimDate')\n",
    "print(\"\".join(dimDatesql))"
   ]
  },
  {
   "cell_type": "code",
   "execution_count": null,
   "metadata": {},
   "outputs": [],
   "source": [
    "dimHospitalsql = pd.io.sql.get_schema(dimHospital.reset_index(),'dimHospital')\n",
    "print(\"\".join(dimHospitalsql))"
   ]
  },
  {
   "cell_type": "code",
   "execution_count": null,
   "metadata": {},
   "outputs": [],
   "source": [
    "import redshift_connector\n",
    "import numpy"
   ]
  },
  {
   "cell_type": "code",
   "execution_count": null,
   "metadata": {},
   "outputs": [],
   "source": [
    "conn = redshift_connector.Connection(\n",
    "    host=\"redshift-cluster.c3wx34pgvqip.ap-south-1.redshift.amazonaws.com\",\n",
    "    database='dev',\n",
    "    user='awsuser',\n",
    "    password='Awsuser1512'\n",
    " )"
   ]
  },
  {
   "cell_type": "code",
   "execution_count": null,
   "metadata": {},
   "outputs": [],
   "source": [
    "conn.autocommit=True\n",
    "cursor= redshift_connector.Cursor = conn.cursor()"
   ]
  },
  {
   "cell_type": "code",
   "execution_count": null,
   "metadata": {},
   "outputs": [],
   "source": [
    "cursor.execute(\"\"\"\n",
    "CREATE TABLE dimDate (\n",
    "\"index\" INTEGER,\n",
    "  \"fips\" REAL,\n",
    "  \"date\" TIMESTAMP,\n",
    "  \"year\" INTEGER,\n",
    "  \"month\" INTEGER,\n",
    "  \"dayofweek\" INTEGER\n",
    ")\n",
    "\"\"\")"
   ]
  },
  {
   "cell_type": "code",
   "execution_count": null,
   "metadata": {},
   "outputs": [],
   "source": [
    "cursor.execute(\"\"\"\n",
    "CREATE TABLE \"dimRegion\" (\n",
    "\"index\" INTEGER,\n",
    "\"fips\" REAL,\n",
    "\"province_state\" TEXT,\n",
    "\"country_region\" TEXT,\n",
    "\"latitude\" REAL,\n",
    "\"longititude\" REAL,\n",
    "\"county\" TEXT,\n",
    "\"state\" TEXT\n",
    ")\n",
    "\"\"\")"
   ]
  },
  {
   "cell_type": "code",
   "execution_count": null,
   "metadata": {},
   "outputs": [],
   "source": [
    "\n",
    "cursor.execute(\"\"\"\n",
    "CREATE TABLE \"factCovid\" (\n",
    "  \"index\" INTEGER,\n",
    "  \"fips\" REAL,\n",
    "  \"province_state\" TEXT,\n",
    "  \"country_region\" TEXT,\n",
    "  \"confirmed\" REAL,\n",
    "  \"deaths\" REAL,\n",
    "  \"recovered\" REAL,\n",
    "  \"active\" REAL,\n",
    "  \"date\" INTEGER,\n",
    "  \"positive\" INTEGER,\n",
    "  \"negative\" REAL,\n",
    "  \"hospitalizedcurrently\" REAL,\n",
    "  \"hospitalized\" REAL,\n",
    "  \"hospitalizeddischarged\" REAL\n",
    ")\n",
    "\"\"\")"
   ]
  },
  {
   "cell_type": "code",
   "execution_count": null,
   "metadata": {},
   "outputs": [],
   "source": [
    "cursor.execute(\"\"\"\n",
    "CREATE TABLE \"dimHospital\" (\n",
    "\"index\" INTEGER,\n",
    "  \"fips\" REAL,\n",
    "  \"state_name\" TEXT,\n",
    "  \"latitude\" REAL,\n",
    "  \"longtitude\" REAL,\n",
    "  \"hq_address\" TEXT,\n",
    "  \"hospital_name\" TEXT,\n",
    "  \"hospital_type\" TEXT,\n",
    "  \"hq_city\" TEXT,\n",
    "  \"hq_state\" TEXT\n",
    ")\n",
    "\"\"\")"
   ]
  },
  {
   "cell_type": "code",
   "execution_count": null,
   "metadata": {},
   "outputs": [],
   "source": [
    "cursor.execute(\"\"\"\n",
    "               COPY dimDate \n",
    "               FROM 's3://nani-bucket//covid-19-output/dimDate.csv'\n",
    "               CREDENTIALS 'aws_iam_role=arn:aws:iam::345682574541:role/service-role/AmazonRedshift-CommandsAccessRole-20230703T030629' \n",
    "               DELIMITER ',' \n",
    "               REGION 'ap-south-1'  \n",
    "               IGNOREHEADER 1\n",
    "               \"\"\")"
   ]
  },
  {
   "cell_type": "code",
   "execution_count": null,
   "metadata": {},
   "outputs": [],
   "source": [
    "cursor.execute(\"\"\"\n",
    "               COPY dimHospital \n",
    "               FROM 's3://nani-bucket//covid-19-output/dimHospital.csv'\n",
    "               CREDENTIALS 'aws_iam_role=arn:aws:iam::345682574541:role/service-role/AmazonRedshift-CommandsAccessRole-20230703T030629' \n",
    "               DELIMITER ',' \n",
    "               REGION 'ap-south-1'  \n",
    "               IGNOREHEADER 1\n",
    "               \"\"\")"
   ]
  },
  {
   "cell_type": "code",
   "execution_count": null,
   "metadata": {},
   "outputs": [],
   "source": [
    "cursor.execute(\"\"\"\n",
    "               COPY dimRegion \n",
    "               FROM 's3://{}//covid-19-output/dimRegion.csv'\n",
    "               CREDENTIALS 'aws_iam_role=' \n",
    "               DELIMITER ',' \n",
    "               REGION 'ap-south-1'  \n",
    "               IGNOREHEADER 1\n",
    "               \"\"\")"
   ]
  },
  {
   "cell_type": "code",
   "execution_count": null,
   "metadata": {},
   "outputs": [],
   "source": [
    "cursor.execute(\"\"\"\n",
    "               COPY factCovid\n",
    "               FROM 's3://{}//covid-19-output/factCovid.csv'\n",
    "               CREDENTIALS 'aws_iam_role=' \n",
    "               DELIMITER ',' \n",
    "               REGION 'ap-south-1'  \n",
    "               IGNOREHEADER 1\n",
    "               \"\"\")"
   ]
  },
  {
   "cell_type": "code",
   "execution_count": null,
   "metadata": {},
   "outputs": [],
   "source": [
    "cursor.close()\n",
    "conn.close()"
   ]
  }
 ],
 "metadata": {
  "kernelspec": {
   "display_name": "Python 3",
   "language": "python",
   "name": "python3"
  },
  "language_info": {
   "codemirror_mode": {
    "name": "ipython",
    "version": 3
   },
   "file_extension": ".py",
   "mimetype": "text/x-python",
   "name": "python",
   "nbconvert_exporter": "python",
   "pygments_lexer": "ipython3",
   "version": "3.11.3"
  },
  "orig_nbformat": 4
 },
 "nbformat": 4,
 "nbformat_minor": 2
}
